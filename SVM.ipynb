{
 "cells": [
  {
   "cell_type": "code",
   "execution_count": 37,
   "metadata": {},
   "outputs": [],
   "source": [
    "from datetime import datetime as dt\n",
    "import pandas as pd"
   ]
  },
  {
   "cell_type": "code",
   "execution_count": 38,
   "metadata": {},
   "outputs": [
    {
     "data": {
      "text/html": [
       "<div>\n",
       "<style scoped>\n",
       "    .dataframe tbody tr th:only-of-type {\n",
       "        vertical-align: middle;\n",
       "    }\n",
       "\n",
       "    .dataframe tbody tr th {\n",
       "        vertical-align: top;\n",
       "    }\n",
       "\n",
       "    .dataframe thead th {\n",
       "        text-align: right;\n",
       "    }\n",
       "</style>\n",
       "<table border=\"1\" class=\"dataframe\">\n",
       "  <thead>\n",
       "    <tr style=\"text-align: right;\">\n",
       "      <th></th>\n",
       "      <th>0</th>\n",
       "      <th>1</th>\n",
       "    </tr>\n",
       "  </thead>\n",
       "  <tbody>\n",
       "    <tr>\n",
       "      <th>0</th>\n",
       "      <td>atis_flight</td>\n",
       "      <td>i want to fly from boston at 838 am and arriv...</td>\n",
       "    </tr>\n",
       "    <tr>\n",
       "      <th>1</th>\n",
       "      <td>atis_flight</td>\n",
       "      <td>what flights are available from pittsburgh to...</td>\n",
       "    </tr>\n",
       "    <tr>\n",
       "      <th>2</th>\n",
       "      <td>atis_flight_time</td>\n",
       "      <td>what is the arrival time in san francisco for...</td>\n",
       "    </tr>\n",
       "    <tr>\n",
       "      <th>3</th>\n",
       "      <td>atis_airfare</td>\n",
       "      <td>cheapest airfare from tacoma to orlando</td>\n",
       "    </tr>\n",
       "    <tr>\n",
       "      <th>4</th>\n",
       "      <td>atis_airfare</td>\n",
       "      <td>round trip fares from pittsburgh to philadelp...</td>\n",
       "    </tr>\n",
       "    <tr>\n",
       "      <th>...</th>\n",
       "      <td>...</td>\n",
       "      <td>...</td>\n",
       "    </tr>\n",
       "    <tr>\n",
       "      <th>4829</th>\n",
       "      <td>atis_airfare</td>\n",
       "      <td>what is the airfare for flights from denver t...</td>\n",
       "    </tr>\n",
       "    <tr>\n",
       "      <th>4830</th>\n",
       "      <td>atis_flight</td>\n",
       "      <td>do you have any flights from denver to baltim...</td>\n",
       "    </tr>\n",
       "    <tr>\n",
       "      <th>4831</th>\n",
       "      <td>atis_airline</td>\n",
       "      <td>which airlines fly into and out of denver</td>\n",
       "    </tr>\n",
       "    <tr>\n",
       "      <th>4832</th>\n",
       "      <td>atis_flight</td>\n",
       "      <td>does continental fly from boston to san franc...</td>\n",
       "    </tr>\n",
       "    <tr>\n",
       "      <th>4833</th>\n",
       "      <td>atis_flight</td>\n",
       "      <td>is there a delta flight from denver to san fr...</td>\n",
       "    </tr>\n",
       "  </tbody>\n",
       "</table>\n",
       "<p>4834 rows × 2 columns</p>\n",
       "</div>"
      ],
      "text/plain": [
       "                     0                                                  1\n",
       "0          atis_flight   i want to fly from boston at 838 am and arriv...\n",
       "1          atis_flight   what flights are available from pittsburgh to...\n",
       "2     atis_flight_time   what is the arrival time in san francisco for...\n",
       "3         atis_airfare            cheapest airfare from tacoma to orlando\n",
       "4         atis_airfare   round trip fares from pittsburgh to philadelp...\n",
       "...                ...                                                ...\n",
       "4829      atis_airfare   what is the airfare for flights from denver t...\n",
       "4830       atis_flight   do you have any flights from denver to baltim...\n",
       "4831      atis_airline          which airlines fly into and out of denver\n",
       "4832       atis_flight   does continental fly from boston to san franc...\n",
       "4833       atis_flight   is there a delta flight from denver to san fr...\n",
       "\n",
       "[4834 rows x 2 columns]"
      ]
     },
     "execution_count": 38,
     "metadata": {},
     "output_type": "execute_result"
    }
   ],
   "source": [
    "df=pd.read_csv(\"/home/saad/Dialog_Sys_Proj/dataset/atis_intents_train.csv\", header=None, encoding = 'utf-8')\n",
    "df"
   ]
  },
  {
   "cell_type": "code",
   "execution_count": 39,
   "metadata": {},
   "outputs": [
    {
     "data": {
      "text/html": [
       "<div>\n",
       "<style scoped>\n",
       "    .dataframe tbody tr th:only-of-type {\n",
       "        vertical-align: middle;\n",
       "    }\n",
       "\n",
       "    .dataframe tbody tr th {\n",
       "        vertical-align: top;\n",
       "    }\n",
       "\n",
       "    .dataframe thead th {\n",
       "        text-align: right;\n",
       "    }\n",
       "</style>\n",
       "<table border=\"1\" class=\"dataframe\">\n",
       "  <thead>\n",
       "    <tr style=\"text-align: right;\">\n",
       "      <th></th>\n",
       "      <th>intent</th>\n",
       "      <th>text</th>\n",
       "    </tr>\n",
       "  </thead>\n",
       "  <tbody>\n",
       "    <tr>\n",
       "      <th>0</th>\n",
       "      <td>atis_flight</td>\n",
       "      <td>i want to fly from boston at 838 am and arriv...</td>\n",
       "    </tr>\n",
       "    <tr>\n",
       "      <th>1</th>\n",
       "      <td>atis_flight</td>\n",
       "      <td>what flights are available from pittsburgh to...</td>\n",
       "    </tr>\n",
       "    <tr>\n",
       "      <th>2</th>\n",
       "      <td>atis_flight_time</td>\n",
       "      <td>what is the arrival time in san francisco for...</td>\n",
       "    </tr>\n",
       "    <tr>\n",
       "      <th>3</th>\n",
       "      <td>atis_airfare</td>\n",
       "      <td>cheapest airfare from tacoma to orlando</td>\n",
       "    </tr>\n",
       "    <tr>\n",
       "      <th>4</th>\n",
       "      <td>atis_airfare</td>\n",
       "      <td>round trip fares from pittsburgh to philadelp...</td>\n",
       "    </tr>\n",
       "    <tr>\n",
       "      <th>...</th>\n",
       "      <td>...</td>\n",
       "      <td>...</td>\n",
       "    </tr>\n",
       "    <tr>\n",
       "      <th>4829</th>\n",
       "      <td>atis_airfare</td>\n",
       "      <td>what is the airfare for flights from denver t...</td>\n",
       "    </tr>\n",
       "    <tr>\n",
       "      <th>4830</th>\n",
       "      <td>atis_flight</td>\n",
       "      <td>do you have any flights from denver to baltim...</td>\n",
       "    </tr>\n",
       "    <tr>\n",
       "      <th>4831</th>\n",
       "      <td>atis_airline</td>\n",
       "      <td>which airlines fly into and out of denver</td>\n",
       "    </tr>\n",
       "    <tr>\n",
       "      <th>4832</th>\n",
       "      <td>atis_flight</td>\n",
       "      <td>does continental fly from boston to san franc...</td>\n",
       "    </tr>\n",
       "    <tr>\n",
       "      <th>4833</th>\n",
       "      <td>atis_flight</td>\n",
       "      <td>is there a delta flight from denver to san fr...</td>\n",
       "    </tr>\n",
       "  </tbody>\n",
       "</table>\n",
       "<p>4834 rows × 2 columns</p>\n",
       "</div>"
      ],
      "text/plain": [
       "                intent                                               text\n",
       "0          atis_flight   i want to fly from boston at 838 am and arriv...\n",
       "1          atis_flight   what flights are available from pittsburgh to...\n",
       "2     atis_flight_time   what is the arrival time in san francisco for...\n",
       "3         atis_airfare            cheapest airfare from tacoma to orlando\n",
       "4         atis_airfare   round trip fares from pittsburgh to philadelp...\n",
       "...                ...                                                ...\n",
       "4829      atis_airfare   what is the airfare for flights from denver t...\n",
       "4830       atis_flight   do you have any flights from denver to baltim...\n",
       "4831      atis_airline          which airlines fly into and out of denver\n",
       "4832       atis_flight   does continental fly from boston to san franc...\n",
       "4833       atis_flight   is there a delta flight from denver to san fr...\n",
       "\n",
       "[4834 rows x 2 columns]"
      ]
     },
     "execution_count": 39,
     "metadata": {},
     "output_type": "execute_result"
    }
   ],
   "source": [
    "df = df.rename(columns={0: 'intent', 1: 'text'})\n",
    "df"
   ]
  },
  {
   "cell_type": "code",
   "execution_count": 40,
   "metadata": {},
   "outputs": [
    {
     "data": {
      "text/plain": [
       "array(['atis_flight', 'atis_flight_time', 'atis_airfare', 'atis_aircraft',\n",
       "       'atis_ground_service', 'atis_airline', 'atis_abbreviation',\n",
       "       'atis_quantity'], dtype=object)"
      ]
     },
     "execution_count": 40,
     "metadata": {},
     "output_type": "execute_result"
    }
   ],
   "source": [
    "df['intent'].unique()"
   ]
  },
  {
   "cell_type": "code",
   "execution_count": 41,
   "metadata": {},
   "outputs": [],
   "source": [
    "train_txt = df['text'].astype(str)\n",
    "train_lbl = df['intent'].astype(str)"
   ]
  },
  {
   "cell_type": "code",
   "execution_count": 42,
   "metadata": {},
   "outputs": [],
   "source": [
    "from sklearn.feature_extraction.text import CountVectorizer, TfidfTransformer,TfidfVectorizer\n",
    "import pickle as pkl"
   ]
  },
  {
   "cell_type": "code",
   "execution_count": 43,
   "metadata": {},
   "outputs": [],
   "source": [
    "vectorizer = CountVectorizer()\n",
    "vectorizer.fit(train_txt)\n",
    "train_mat = vectorizer.transform(train_txt)\n",
    "pkl.dump(vectorizer, open(\"vectorizer.pkl\", \"wb\"))"
   ]
  },
  {
   "cell_type": "code",
   "execution_count": 44,
   "metadata": {},
   "outputs": [],
   "source": [
    "tfidf = TfidfTransformer()\n",
    "tfidf.fit(train_mat)\n",
    "train_tfmat = tfidf.transform(train_mat)\n",
    "pkl.dump(tfidf, open(\"tfidf.pkl\", \"wb\"))"
   ]
  },
  {
   "cell_type": "code",
   "execution_count": 45,
   "metadata": {},
   "outputs": [],
   "source": [
    "from sklearn.svm import LinearSVC"
   ]
  },
  {
   "cell_type": "code",
   "execution_count": 46,
   "metadata": {},
   "outputs": [
    {
     "data": {
      "text/plain": [
       "LinearSVC()"
      ]
     },
     "execution_count": 46,
     "metadata": {},
     "output_type": "execute_result"
    }
   ],
   "source": [
    "lsvm=LinearSVC()\n",
    "lsvm.fit(train_tfmat,train_lbl)"
   ]
  },
  {
   "cell_type": "code",
   "execution_count": 47,
   "metadata": {},
   "outputs": [],
   "source": [
    "df_test=pd.read_csv(\"/home/saad/Dialog_Sys_Proj/dataset/atis_intents_test.csv\", header=None, encoding = 'utf-8')\n",
    "df_test = df_test.rename(columns={0: 'intent', 1: 'text'})"
   ]
  },
  {
   "cell_type": "code",
   "execution_count": 48,
   "metadata": {},
   "outputs": [],
   "source": [
    "test_txt=df_test['text'].astype(str)\n",
    "test_lbl=df_test['intent'].astype(str)"
   ]
  },
  {
   "cell_type": "code",
   "execution_count": 49,
   "metadata": {},
   "outputs": [],
   "source": [
    "test_mat = vectorizer.transform(test_txt)\n",
    "test_tfmat = tfidf.transform(test_mat)"
   ]
  },
  {
   "cell_type": "code",
   "execution_count": 50,
   "metadata": {},
   "outputs": [],
   "source": [
    "y_pred_lsvm=lsvm.predict(test_tfmat)"
   ]
  },
  {
   "cell_type": "code",
   "execution_count": 51,
   "metadata": {},
   "outputs": [],
   "source": [
    "from sklearn.metrics import  accuracy_score\n",
    "from sklearn import metrics"
   ]
  },
  {
   "cell_type": "code",
   "execution_count": 65,
   "metadata": {},
   "outputs": [
    {
     "name": "stdout",
     "output_type": "stream",
     "text": [
      "accuracy: 98.25\n",
      "F1 score: 90.78088036655811\n"
     ]
    }
   ],
   "source": [
    "print(\"accuracy:\", metrics.accuracy_score(test_lbl, y_pred_lsvm)*100)\n",
    "print(\"F1 score:\", metrics.f1_score(test_lbl, y_pred_lsvm, average=\"macro\")*100)"
   ]
  },
  {
   "cell_type": "code",
   "execution_count": 66,
   "metadata": {},
   "outputs": [
    {
     "data": {
      "text/plain": [
       "'atis_airfare'"
      ]
     },
     "execution_count": 66,
     "metadata": {},
     "output_type": "execute_result"
    }
   ],
   "source": [
    "test=['I need to buy ticket for two people.']\n",
    "test_str = vectorizer.transform(test)\n",
    "test_tfstr = tfidf.transform(test_str)\n",
    "test_tfstr.shape\n",
    "lsvm.predict(test_tfstr.toarray())[0]"
   ]
  },
  {
   "cell_type": "code",
   "execution_count": 67,
   "metadata": {},
   "outputs": [
    {
     "data": {
      "text/plain": [
       "'atis_flight'"
      ]
     },
     "execution_count": 67,
     "metadata": {},
     "output_type": "execute_result"
    }
   ],
   "source": [
    "test=['When will the flight leave?.']\n",
    "test_str = vectorizer.transform(test)\n",
    "test_tfstr = tfidf.transform(test_str)\n",
    "test_tfstr.shape\n",
    "lsvm.predict(test_tfstr.toarray())[0]"
   ]
  },
  {
   "cell_type": "code",
   "execution_count": 68,
   "metadata": {},
   "outputs": [
    {
     "data": {
      "text/plain": [
       "'atis_flight'"
      ]
     },
     "execution_count": 68,
     "metadata": {},
     "output_type": "execute_result"
    }
   ],
   "source": [
    "test=['When will the aeroplane leave?.']\n",
    "test_str = vectorizer.transform(test)\n",
    "test_tfstr = tfidf.transform(test_str)\n",
    "test_tfstr.shape\n",
    "lsvm.predict(test_tfstr.toarray())[0]"
   ]
  },
  {
   "cell_type": "code",
   "execution_count": 69,
   "metadata": {},
   "outputs": [
    {
     "data": {
      "text/plain": [
       "'atis_quantity'"
      ]
     },
     "execution_count": 69,
     "metadata": {},
     "output_type": "execute_result"
    }
   ],
   "source": [
    "test=['How many airplanes do you have?.']\n",
    "test_str = vectorizer.transform(test)\n",
    "test_tfstr = tfidf.transform(test_str)\n",
    "test_tfstr.shape\n",
    "lsvm.predict(test_tfstr.toarray())[0]"
   ]
  },
  {
   "cell_type": "code",
   "execution_count": 70,
   "metadata": {},
   "outputs": [
    {
     "data": {
      "text/plain": [
       "'atis_quantity'"
      ]
     },
     "execution_count": 70,
     "metadata": {},
     "output_type": "execute_result"
    }
   ],
   "source": [
    "test=['How many flights leave every hour?']\n",
    "test_str = vectorizer.transform(test)\n",
    "test_tfstr = tfidf.transform(test_str)\n",
    "test_tfstr.shape\n",
    "lsvm.predict(test_tfstr.toarray())[0]"
   ]
  },
  {
   "cell_type": "code",
   "execution_count": 71,
   "metadata": {},
   "outputs": [
    {
     "data": {
      "text/plain": [
       "'atis_quantity'"
      ]
     },
     "execution_count": 71,
     "metadata": {},
     "output_type": "execute_result"
    }
   ],
   "source": [
    "test=['How many planes leave between afternoon and evening?']\n",
    "test_str = vectorizer.transform(test)\n",
    "test_tfstr = tfidf.transform(test_str)\n",
    "test_tfstr.shape\n",
    "lsvm.predict(test_tfstr.toarray())[0]"
   ]
  },
  {
   "cell_type": "code",
   "execution_count": 72,
   "metadata": {},
   "outputs": [
    {
     "data": {
      "text/plain": [
       "'atis_flight'"
      ]
     },
     "execution_count": 72,
     "metadata": {},
     "output_type": "execute_result"
    }
   ],
   "source": [
    "test=['Tell me your cheapest and the most expensive flight.']\n",
    "test_str = vectorizer.transform(test)\n",
    "test_tfstr = tfidf.transform(test_str)\n",
    "test_tfstr.shape\n",
    "lsvm.predict(test_tfstr.toarray())[0]"
   ]
  },
  {
   "cell_type": "code",
   "execution_count": 73,
   "metadata": {},
   "outputs": [
    {
     "data": {
      "text/plain": [
       "'atis_airfare'"
      ]
     },
     "execution_count": 73,
     "metadata": {},
     "output_type": "execute_result"
    }
   ],
   "source": [
    "test=['Tell me your cheapest and the most expensive ticket.']\n",
    "test_str = vectorizer.transform(test)\n",
    "test_tfstr = tfidf.transform(test_str)\n",
    "test_tfstr.shape\n",
    "lsvm.predict(test_tfstr.toarray())[0]"
   ]
  },
  {
   "cell_type": "code",
   "execution_count": null,
   "metadata": {},
   "outputs": [],
   "source": []
  }
 ],
 "metadata": {
  "kernelspec": {
   "display_name": "Python 3",
   "language": "python",
   "name": "python3"
  },
  "language_info": {
   "codemirror_mode": {
    "name": "ipython",
    "version": 3
   },
   "file_extension": ".py",
   "mimetype": "text/x-python",
   "name": "python",
   "nbconvert_exporter": "python",
   "pygments_lexer": "ipython3",
   "version": "3.8.5"
  }
 },
 "nbformat": 4,
 "nbformat_minor": 4
}
